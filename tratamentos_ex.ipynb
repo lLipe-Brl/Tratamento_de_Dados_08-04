{
  "cells": [
    {
      "cell_type": "code",
      "execution_count": 2,
      "metadata": {
        "colab": {
          "base_uri": "https://localhost:8080/"
        },
        "id": "GqacDaFI65wP",
        "outputId": "54b42a08-6dae-4015-b956-cedf695f84cf"
      },
      "outputs": [
        {
          "output_type": "stream",
          "name": "stdout",
          "text": [
            "          data         loja         categoria          produto  quantidade  \\\n",
            "0   2024-07-20  Vento Norte  ELETRODOMESTICOS        Aquecedor         5.0   \n",
            "1   2024-05-30  Vento Norte           sazonal     Guarda-chuva         6.0   \n",
            "2   2024-01-25  Vento Norte            roupas            Calça         8.0   \n",
            "3   2024-07-10  Chuva Clara            roupas           Casaco         5.0   \n",
            "4   2024-05-29    Porto Sol          infantil   Blusa Infantil         NaN   \n",
            "..         ...          ...               ...              ...         ...   \n",
            "495 2024-08-23    Porto Sol  eletrodomesticos       Ventilador         4.0   \n",
            "496 2024-12-19  Vento Norte  eletrodomesticos       Ventilador         1.0   \n",
            "497 2024-05-12    Vila Neve          infantil   Blusa Infantil         6.0   \n",
            "498 2024-03-08    Vila Neve  eletrodomesticos  Ar-condicionado         1.0   \n",
            "499 2024-07-25  Vento Norte           sazonal     Guarda-chuva         3.0   \n",
            "\n",
            "     valor_venda  \n",
            "0         405.55  \n",
            "1        2866.20  \n",
            "2        3292.72  \n",
            "3        1294.95  \n",
            "4            NaN  \n",
            "..           ...  \n",
            "495      1545.72  \n",
            "496       230.89  \n",
            "497       441.30  \n",
            "498       293.93  \n",
            "499      1479.81  \n",
            "\n",
            "[500 rows x 6 columns]\n"
          ]
        }
      ],
      "source": [
        "import pandas as pd\n",
        "df = pd.read_excel('vendas.xlsx')\n",
        "\n",
        "print(df)"
      ]
    },
    {
      "cell_type": "code",
      "execution_count": 3,
      "metadata": {
        "colab": {
          "base_uri": "https://localhost:8080/"
        },
        "id": "hUOUNU1X65wT",
        "outputId": "77f952d9-7147-42c2-ce42-021b97556c3a"
      },
      "outputs": [
        {
          "output_type": "stream",
          "name": "stdout",
          "text": [
            "          data         loja         categoria          produto  quantidade  \\\n",
            "0   2024-07-20  Vento Norte  eletrodomesticos        Aquecedor         5.0   \n",
            "1   2024-05-30  Vento Norte           sazonal     Guarda-chuva         6.0   \n",
            "2   2024-01-25  Vento Norte            roupas            Calça         8.0   \n",
            "3   2024-07-10  Chuva Clara            roupas           Casaco         5.0   \n",
            "4   2024-05-29    Porto Sol          infantil   Blusa Infantil         NaN   \n",
            "..         ...          ...               ...              ...         ...   \n",
            "495 2024-08-23    Porto Sol  eletrodomesticos       Ventilador         4.0   \n",
            "496 2024-12-19  Vento Norte  eletrodomesticos       Ventilador         1.0   \n",
            "497 2024-05-12    Vila Neve          infantil   Blusa Infantil         6.0   \n",
            "498 2024-03-08    Vila Neve  eletrodomesticos  Ar-condicionado         1.0   \n",
            "499 2024-07-25  Vento Norte           sazonal     Guarda-chuva         3.0   \n",
            "\n",
            "     valor_venda  \n",
            "0         405.55  \n",
            "1        2866.20  \n",
            "2        3292.72  \n",
            "3        1294.95  \n",
            "4            NaN  \n",
            "..           ...  \n",
            "495      1545.72  \n",
            "496       230.89  \n",
            "497       441.30  \n",
            "498       293.93  \n",
            "499      1479.81  \n",
            "\n",
            "[500 rows x 6 columns]\n"
          ]
        }
      ],
      "source": [
        "# 1.Padronizar a coluna &#39;categoria&#39; para minúsculas.\n",
        "\n",
        "df['categoria'] = df['categoria'].str.lower()\n",
        "print(df)"
      ]
    },
    {
      "cell_type": "code",
      "execution_count": 4,
      "metadata": {
        "colab": {
          "base_uri": "https://localhost:8080/"
        },
        "id": "0xfIUkRw65wT",
        "outputId": "aa8bf4a9-0256-4350-bee1-15c162564deb"
      },
      "outputs": [
        {
          "output_type": "stream",
          "name": "stdout",
          "text": [
            "0      5.0\n",
            "1      6.0\n",
            "2      8.0\n",
            "3      5.0\n",
            "5      2.0\n",
            "      ... \n",
            "495    4.0\n",
            "496    1.0\n",
            "497    6.0\n",
            "498    1.0\n",
            "499    3.0\n",
            "Name: quantidade, Length: 455, dtype: float64\n"
          ]
        }
      ],
      "source": [
        "# 2.Remover registros onde a quantidade está ausente\n",
        "\n",
        "df_sem_nulos = df['quantidade'].dropna()\n",
        "print(df_sem_nulos)"
      ]
    },
    {
      "cell_type": "code",
      "execution_count": 5,
      "metadata": {
        "colab": {
          "base_uri": "https://localhost:8080/"
        },
        "id": "5BIySHQm65wU",
        "outputId": "fb65d1c6-3cee-4bbd-c54d-64d08a1251df"
      },
      "outputs": [
        {
          "output_type": "stream",
          "name": "stdout",
          "text": [
            "          data         loja         categoria          produto  quantidade  \\\n",
            "0   2024-07-20  Vento Norte  Eletrodomesticos        Aquecedor         5.0   \n",
            "1   2024-05-30  Vento Norte           Sazonal     Guarda-Chuva         6.0   \n",
            "2   2024-01-25  Vento Norte            Roupas            Calça         8.0   \n",
            "3   2024-07-10  Chuva Clara            Roupas           Casaco         5.0   \n",
            "4   2024-05-29    Porto Sol          Infantil   Blusa Infantil         NaN   \n",
            "..         ...          ...               ...              ...         ...   \n",
            "495 2024-08-23    Porto Sol  Eletrodomesticos       Ventilador         4.0   \n",
            "496 2024-12-19  Vento Norte  Eletrodomesticos       Ventilador         1.0   \n",
            "497 2024-05-12    Vila Neve          Infantil   Blusa Infantil         6.0   \n",
            "498 2024-03-08    Vila Neve  Eletrodomesticos  Ar-Condicionado         1.0   \n",
            "499 2024-07-25  Vento Norte           Sazonal     Guarda-Chuva         3.0   \n",
            "\n",
            "     valor_venda  \n",
            "0         405.55  \n",
            "1        2866.20  \n",
            "2        3292.72  \n",
            "3        1294.95  \n",
            "4            NaN  \n",
            "..           ...  \n",
            "495      1545.72  \n",
            "496       230.89  \n",
            "497       441.30  \n",
            "498       293.93  \n",
            "499      1479.81  \n",
            "\n",
            "[500 rows x 6 columns]\n"
          ]
        }
      ],
      "source": [
        "# 3. Remover espaços extras e padronizar com primeira letra maiúscula (estilo título)\n",
        "\n",
        "df['categoria'] = df['categoria'].str.title().str.strip()\n",
        "df['produto'] = df['produto'].str.title().str.strip()\n",
        "df['loja'] = df['loja'].str.title().str.strip()\n",
        "print(df)"
      ]
    },
    {
      "cell_type": "code",
      "execution_count": 6,
      "metadata": {
        "colab": {
          "base_uri": "https://localhost:8080/"
        },
        "id": "hNZNRvIJ65wV",
        "outputId": "a6a82e31-2071-4f04-8a99-0ddf1f8320dd"
      },
      "outputs": [
        {
          "output_type": "stream",
          "name": "stdout",
          "text": [
            "data           datetime64[ns]\n",
            "loja                   object\n",
            "categoria              object\n",
            "produto                object\n",
            "quantidade            float64\n",
            "valor_venda           float64\n",
            "dtype: object\n"
          ]
        }
      ],
      "source": [
        "# 4. Garantir que a coluna data seja datetime\n",
        "\n",
        "df['data'] = pd.to_datetime(df['data'], format='%d/%m/%Y')\n",
        "print(df.dtypes)"
      ]
    },
    {
      "cell_type": "code",
      "execution_count": 7,
      "metadata": {
        "colab": {
          "base_uri": "https://localhost:8080/"
        },
        "id": "bRTlB6_n65wV",
        "outputId": "4e935641-5a8f-4ec5-882d-e8eee29c3fb7"
      },
      "outputs": [
        {
          "output_type": "stream",
          "name": "stdout",
          "text": [
            "          data         loja         categoria          produto  quantidade  \\\n",
            "0   2024-07-20  Vento Norte  Eletrodomesticos        Aquecedor         5.0   \n",
            "1   2024-05-30  Vento Norte           Sazonal     Guarda-Chuva         6.0   \n",
            "2   2024-01-25  Vento Norte            Roupas            Calça         8.0   \n",
            "3   2024-07-10  Chuva Clara            Roupas           Casaco         5.0   \n",
            "4   2024-05-29    Porto Sol          Infantil   Blusa Infantil         NaN   \n",
            "..         ...          ...               ...              ...         ...   \n",
            "495 2024-08-23    Porto Sol  Eletrodomesticos       Ventilador         4.0   \n",
            "496 2024-12-19  Vento Norte  Eletrodomesticos       Ventilador         1.0   \n",
            "497 2024-05-12    Vila Neve          Infantil   Blusa Infantil         6.0   \n",
            "498 2024-03-08    Vila Neve  Eletrodomesticos  Ar-Condicionado         1.0   \n",
            "499 2024-07-25  Vento Norte           Sazonal     Guarda-Chuva         3.0   \n",
            "\n",
            "     valor_venda  valor_unitário  \n",
            "0         405.55           81.11  \n",
            "1        2866.20          477.70  \n",
            "2        3292.72          411.59  \n",
            "3        1294.95          258.99  \n",
            "4            NaN             NaN  \n",
            "..           ...             ...  \n",
            "495      1545.72          386.43  \n",
            "496       230.89          230.89  \n",
            "497       441.30           73.55  \n",
            "498       293.93          293.93  \n",
            "499      1479.81          493.27  \n",
            "\n",
            "[500 rows x 7 columns]\n"
          ]
        }
      ],
      "source": [
        "# 5. Calcular valor unitário real das vendas válidas\n",
        "\n",
        "df['valor_unitário'] = df['valor_venda'] / df['quantidade']\n",
        "\n",
        "print(df)"
      ]
    },
    {
      "cell_type": "code",
      "execution_count": 8,
      "metadata": {
        "colab": {
          "base_uri": "https://localhost:8080/"
        },
        "id": "6EeOTc7V65wV",
        "outputId": "f7fcbd37-3e9e-4a33-9510-363d5b9e1a1b"
      },
      "outputs": [
        {
          "output_type": "stream",
          "name": "stdout",
          "text": [
            "          data         loja         categoria          produto  quantidade  \\\n",
            "0   2024-07-20  Vento Norte  Eletrodomesticos        Aquecedor         5.0   \n",
            "1   2024-05-30  Vento Norte           Sazonal     Guarda-Chuva         6.0   \n",
            "2   2024-01-25  Vento Norte            Roupas            Calça         8.0   \n",
            "3   2024-07-10  Chuva Clara            Roupas           Casaco         5.0   \n",
            "4   2024-05-29    Porto Sol          Infantil   Blusa Infantil         NaN   \n",
            "..         ...          ...               ...              ...         ...   \n",
            "495 2024-08-23    Porto Sol  Eletrodomesticos       Ventilador         4.0   \n",
            "496 2024-12-19  Vento Norte  Eletrodomesticos       Ventilador         1.0   \n",
            "497 2024-05-12    Vila Neve          Infantil   Blusa Infantil         6.0   \n",
            "498 2024-03-08    Vila Neve  Eletrodomesticos  Ar-Condicionado         1.0   \n",
            "499 2024-07-25  Vento Norte           Sazonal     Guarda-Chuva         3.0   \n",
            "\n",
            "     valor_venda  valor_unitário  \n",
            "0         405.55           81.11  \n",
            "1        2866.20          477.70  \n",
            "2        3292.72          411.59  \n",
            "3        1294.95          258.99  \n",
            "4            NaN             NaN  \n",
            "..           ...             ...  \n",
            "495      1545.72          386.43  \n",
            "496       230.89          230.89  \n",
            "497       441.30           73.55  \n",
            "498       293.93          293.93  \n",
            "499      1479.81          493.27  \n",
            "\n",
            "[500 rows x 7 columns]\n"
          ]
        }
      ],
      "source": [
        "# 6. Calcular valor médio unitário por produto (sem considerar nulos)\n",
        "\n",
        "df['valor_unitário'].mean()\n",
        "print(df)\n"
      ]
    },
    {
      "cell_type": "code",
      "execution_count": 9,
      "metadata": {
        "colab": {
          "base_uri": "https://localhost:8080/"
        },
        "id": "EJzqKNLd65wW",
        "outputId": "353c8173-889e-4173-b118-e65fcb4f7230"
      },
      "outputs": [
        {
          "output_type": "stream",
          "name": "stdout",
          "text": [
            "produto\n",
            "Aquecedor          209.272667\n",
            "Ar-Condicionado    285.399667\n",
            "Blusa Infantil     290.070938\n",
            "Calça              266.699130\n",
            "Camiseta           253.658333\n",
            "Casaco             281.150000\n",
            "Guarda-Chuva       265.004286\n",
            "Lancheira          271.679000\n",
            "Manta Térmica      261.928182\n",
            "Mochila            303.505484\n",
            "Protetor Solar     299.157500\n",
            "Ventilador         287.489310\n",
            "Vestido            298.542174\n",
            "Name: valor_unitário, dtype: float64\n"
          ]
        }
      ],
      "source": [
        "# 7. Agrupar e calcular média\n",
        "\n",
        "media_vendas = df.groupby('produto')['valor_unitário'].mean()\n",
        "print(media_vendas)\n"
      ]
    },
    {
      "cell_type": "code",
      "execution_count": 10,
      "metadata": {
        "colab": {
          "base_uri": "https://localhost:8080/"
        },
        "id": "BGZ0Q8Tm65wW",
        "outputId": "c155445d-f369-4451-b715-eda5f4808462"
      },
      "outputs": [
        {
          "output_type": "stream",
          "name": "stdout",
          "text": [
            "          data         loja         categoria          produto  quantidade  \\\n",
            "0   2024-07-20  Vento Norte  Eletrodomesticos        Aquecedor         5.0   \n",
            "1   2024-05-30  Vento Norte           Sazonal     Guarda-Chuva         6.0   \n",
            "2   2024-01-25  Vento Norte            Roupas            Calça         8.0   \n",
            "3   2024-07-10  Chuva Clara            Roupas           Casaco         5.0   \n",
            "4   2024-05-29    Porto Sol          Infantil   Blusa Infantil         NaN   \n",
            "..         ...          ...               ...              ...         ...   \n",
            "495 2024-08-23    Porto Sol  Eletrodomesticos       Ventilador         4.0   \n",
            "496 2024-12-19  Vento Norte  Eletrodomesticos       Ventilador         1.0   \n",
            "497 2024-05-12    Vila Neve          Infantil   Blusa Infantil         6.0   \n",
            "498 2024-03-08    Vila Neve  Eletrodomesticos  Ar-Condicionado         1.0   \n",
            "499 2024-07-25  Vento Norte           Sazonal     Guarda-Chuva         3.0   \n",
            "\n",
            "     valor_venda  valor_unitário  \n",
            "0         405.55           81.11  \n",
            "1        2866.20          477.70  \n",
            "2        3292.72          411.59  \n",
            "3        1294.95          258.99  \n",
            "4            NaN            0.00  \n",
            "..           ...             ...  \n",
            "495      1545.72          386.43  \n",
            "496       230.89          230.89  \n",
            "497       441.30           73.55  \n",
            "498       293.93          293.93  \n",
            "499      1479.81          493.27  \n",
            "\n",
            "[500 rows x 7 columns]\n"
          ]
        },
        {
          "output_type": "stream",
          "name": "stderr",
          "text": [
            "<ipython-input-10-d373c7d5eda6>:3: FutureWarning: A value is trying to be set on a copy of a DataFrame or Series through chained assignment using an inplace method.\n",
            "The behavior will change in pandas 3.0. This inplace method will never work because the intermediate object on which we are setting values always behaves as a copy.\n",
            "\n",
            "For example, when doing 'df[col].method(value, inplace=True)', try using 'df.method({col: value}, inplace=True)' or df[col] = df[col].method(value) instead, to perform the operation inplace on the original object.\n",
            "\n",
            "\n",
            "  df['valor_unitário'].fillna(0, inplace=True)\n"
          ]
        }
      ],
      "source": [
        "# 8. Preencher valor_unitario ausente\n",
        "\n",
        "df['valor_unitário'].fillna(0, inplace=True)\n",
        "print(df)"
      ]
    },
    {
      "cell_type": "code",
      "execution_count": 11,
      "metadata": {
        "colab": {
          "base_uri": "https://localhost:8080/"
        },
        "id": "6U3fQLf265wX",
        "outputId": "4bd190cc-97da-44f1-ef56-a0b44be1013a"
      },
      "outputs": [
        {
          "output_type": "stream",
          "name": "stdout",
          "text": [
            "          data         loja         categoria          produto  quantidade  \\\n",
            "0   2024-07-20  Vento Norte  Eletrodomesticos        Aquecedor         5.0   \n",
            "1   2024-05-30  Vento Norte           Sazonal     Guarda-Chuva         6.0   \n",
            "2   2024-01-25  Vento Norte            Roupas            Calça         8.0   \n",
            "3   2024-07-10  Chuva Clara            Roupas           Casaco         5.0   \n",
            "4   2024-05-29    Porto Sol          Infantil   Blusa Infantil         NaN   \n",
            "..         ...          ...               ...              ...         ...   \n",
            "495 2024-08-23    Porto Sol  Eletrodomesticos       Ventilador         4.0   \n",
            "496 2024-12-19  Vento Norte  Eletrodomesticos       Ventilador         1.0   \n",
            "497 2024-05-12    Vila Neve          Infantil   Blusa Infantil         6.0   \n",
            "498 2024-03-08    Vila Neve  Eletrodomesticos  Ar-Condicionado         1.0   \n",
            "499 2024-07-25  Vento Norte           Sazonal     Guarda-Chuva         3.0   \n",
            "\n",
            "     valor_venda  valor_unitário  Recalculo  \n",
            "0         405.55           81.11     405.55  \n",
            "1        2866.20          477.70    2866.20  \n",
            "2        3292.72          411.59    3292.72  \n",
            "3        1294.95          258.99    1294.95  \n",
            "4            NaN            0.00        NaN  \n",
            "..           ...             ...        ...  \n",
            "495      1545.72          386.43    1545.72  \n",
            "496       230.89          230.89     230.89  \n",
            "497       441.30           73.55     441.30  \n",
            "498       293.93          293.93     293.93  \n",
            "499      1479.81          493.27    1479.81  \n",
            "\n",
            "[500 rows x 8 columns]\n"
          ]
        }
      ],
      "source": [
        "# 9. Recalcular valor_venda\n",
        "\n",
        "df['Recalculo'] = df['valor_unitário'] * df['quantidade']\n",
        "print(df)\n"
      ]
    },
    {
      "cell_type": "code",
      "execution_count": 14,
      "metadata": {
        "id": "Ti3pZWDy65wX"
      },
      "outputs": [],
      "source": [
        "# 10. Salvar o novo DataFrame limpo em um novo arquivo Excel\n",
        "\n",
        "df.to_excel('vendas_atual.xlsx', index=False)\n"
      ]
    }
  ],
  "metadata": {
    "kernelspec": {
      "display_name": "Python 3",
      "language": "python",
      "name": "python3"
    },
    "language_info": {
      "codemirror_mode": {
        "name": "ipython",
        "version": 3
      },
      "file_extension": ".py",
      "mimetype": "text/x-python",
      "name": "python",
      "nbconvert_exporter": "python",
      "pygments_lexer": "ipython3",
      "version": "3.12.10"
    },
    "colab": {
      "provenance": []
    }
  },
  "nbformat": 4,
  "nbformat_minor": 0
}